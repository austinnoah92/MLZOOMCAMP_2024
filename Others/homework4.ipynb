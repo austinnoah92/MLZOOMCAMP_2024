{
 "cells": [
  {
   "cell_type": "code",
   "execution_count": 1,
   "metadata": {},
   "outputs": [
    {
     "data": {
      "text/html": [
       "<div>\n",
       "<style scoped>\n",
       "    .dataframe tbody tr th:only-of-type {\n",
       "        vertical-align: middle;\n",
       "    }\n",
       "\n",
       "    .dataframe tbody tr th {\n",
       "        vertical-align: top;\n",
       "    }\n",
       "\n",
       "    .dataframe thead th {\n",
       "        text-align: right;\n",
       "    }\n",
       "</style>\n",
       "<table border=\"1\" class=\"dataframe\">\n",
       "  <thead>\n",
       "    <tr style=\"text-align: right;\">\n",
       "      <th></th>\n",
       "      <th>age</th>\n",
       "      <th>job</th>\n",
       "      <th>marital</th>\n",
       "      <th>education</th>\n",
       "      <th>balance</th>\n",
       "      <th>housing</th>\n",
       "      <th>contact</th>\n",
       "      <th>day</th>\n",
       "      <th>month</th>\n",
       "      <th>duration</th>\n",
       "      <th>campaign</th>\n",
       "      <th>pdays</th>\n",
       "      <th>previous</th>\n",
       "      <th>poutcome</th>\n",
       "      <th>y</th>\n",
       "    </tr>\n",
       "  </thead>\n",
       "  <tbody>\n",
       "    <tr>\n",
       "      <th>0</th>\n",
       "      <td>58</td>\n",
       "      <td>management</td>\n",
       "      <td>married</td>\n",
       "      <td>tertiary</td>\n",
       "      <td>2143</td>\n",
       "      <td>yes</td>\n",
       "      <td>unknown</td>\n",
       "      <td>5</td>\n",
       "      <td>may</td>\n",
       "      <td>261</td>\n",
       "      <td>1</td>\n",
       "      <td>-1</td>\n",
       "      <td>0</td>\n",
       "      <td>unknown</td>\n",
       "      <td>no</td>\n",
       "    </tr>\n",
       "    <tr>\n",
       "      <th>1</th>\n",
       "      <td>44</td>\n",
       "      <td>technician</td>\n",
       "      <td>single</td>\n",
       "      <td>secondary</td>\n",
       "      <td>29</td>\n",
       "      <td>yes</td>\n",
       "      <td>unknown</td>\n",
       "      <td>5</td>\n",
       "      <td>may</td>\n",
       "      <td>151</td>\n",
       "      <td>1</td>\n",
       "      <td>-1</td>\n",
       "      <td>0</td>\n",
       "      <td>unknown</td>\n",
       "      <td>no</td>\n",
       "    </tr>\n",
       "    <tr>\n",
       "      <th>2</th>\n",
       "      <td>33</td>\n",
       "      <td>entrepreneur</td>\n",
       "      <td>married</td>\n",
       "      <td>secondary</td>\n",
       "      <td>2</td>\n",
       "      <td>yes</td>\n",
       "      <td>unknown</td>\n",
       "      <td>5</td>\n",
       "      <td>may</td>\n",
       "      <td>76</td>\n",
       "      <td>1</td>\n",
       "      <td>-1</td>\n",
       "      <td>0</td>\n",
       "      <td>unknown</td>\n",
       "      <td>no</td>\n",
       "    </tr>\n",
       "    <tr>\n",
       "      <th>3</th>\n",
       "      <td>47</td>\n",
       "      <td>blue-collar</td>\n",
       "      <td>married</td>\n",
       "      <td>unknown</td>\n",
       "      <td>1506</td>\n",
       "      <td>yes</td>\n",
       "      <td>unknown</td>\n",
       "      <td>5</td>\n",
       "      <td>may</td>\n",
       "      <td>92</td>\n",
       "      <td>1</td>\n",
       "      <td>-1</td>\n",
       "      <td>0</td>\n",
       "      <td>unknown</td>\n",
       "      <td>no</td>\n",
       "    </tr>\n",
       "    <tr>\n",
       "      <th>4</th>\n",
       "      <td>33</td>\n",
       "      <td>unknown</td>\n",
       "      <td>single</td>\n",
       "      <td>unknown</td>\n",
       "      <td>1</td>\n",
       "      <td>no</td>\n",
       "      <td>unknown</td>\n",
       "      <td>5</td>\n",
       "      <td>may</td>\n",
       "      <td>198</td>\n",
       "      <td>1</td>\n",
       "      <td>-1</td>\n",
       "      <td>0</td>\n",
       "      <td>unknown</td>\n",
       "      <td>no</td>\n",
       "    </tr>\n",
       "  </tbody>\n",
       "</table>\n",
       "</div>"
      ],
      "text/plain": [
       "   age           job  marital  education  balance housing  contact  day month  \\\n",
       "0   58    management  married   tertiary     2143     yes  unknown    5   may   \n",
       "1   44    technician   single  secondary       29     yes  unknown    5   may   \n",
       "2   33  entrepreneur  married  secondary        2     yes  unknown    5   may   \n",
       "3   47   blue-collar  married    unknown     1506     yes  unknown    5   may   \n",
       "4   33       unknown   single    unknown        1      no  unknown    5   may   \n",
       "\n",
       "   duration  campaign  pdays  previous poutcome   y  \n",
       "0       261         1     -1         0  unknown  no  \n",
       "1       151         1     -1         0  unknown  no  \n",
       "2        76         1     -1         0  unknown  no  \n",
       "3        92         1     -1         0  unknown  no  \n",
       "4       198         1     -1         0  unknown  no  "
      ]
     },
     "execution_count": 1,
     "metadata": {},
     "output_type": "execute_result"
    }
   ],
   "source": [
    "import zipfile\n",
    "import os\n",
    "import pandas as pd\n",
    "import io\n",
    "import numpy as np\n",
    "import matplotlib.pyplot as plt\n",
    "# Define the file paths for accessing within the Codespace\n",
    "base_path = \"/workspaces/MLZOOMCAMP_2024/Others\"\n",
    "zip_file_path = os.path.join(base_path, \"bank+marketing.zip\")\n",
    "inner_zip_file = \"bank.zip\"\n",
    "csv_file = \"bank-full.csv\"\n",
    "\n",
    "# Open the outer zip file\n",
    "with zipfile.ZipFile(zip_file_path, 'r') as outer_zip:\n",
    "    # Extract the inner zip file (bank.zip)\n",
    "    with outer_zip.open(inner_zip_file) as inner_zip_stream:\n",
    "        # Create a ZipFile object for the inner zip file\n",
    "        with zipfile.ZipFile(io.BytesIO(inner_zip_stream.read())) as inner_zip:\n",
    "            # Extract the CSV file from the inner zip file\n",
    "            with inner_zip.open(csv_file) as file:\n",
    "                df = pd.read_csv(file, sep=';')\n",
    "\n",
    "# Display the first few rows of the DataFrame\n",
    "columns = [\"age\", \"job\", \"marital\", \"education\", \"balance\", \"housing\", \"contact\", \"day\", \"month\", \"duration\", \"campaign\", \"pdays\", \"previous\", \"poutcome\", \"y\"]\n",
    "\n",
    "df = df[columns]\n",
    "df.head()"
   ]
  },
  {
   "cell_type": "code",
   "execution_count": 2,
   "metadata": {},
   "outputs": [],
   "source": [
    "# Data Splitting\n",
    "# Target Encoding\n",
    "\n",
    "df['y'] = (df['y'] == 'yes').astype(int)\n",
    "\n",
    "\n",
    "#Train_Test_Split\n",
    "from sklearn.model_selection import train_test_split\n",
    "X = df.copy()\n",
    "\n",
    "X_train_full, X_test = train_test_split(X, test_size=0.2, random_state=42, shuffle=True)\n",
    "X_train, X_val = train_test_split(X_train_full, test_size=0.25, random_state=42, shuffle=True)\n",
    "\n",
    "df_train_full = X_train_full.reset_index(drop=True)\n",
    "df_train = X_train.reset_index(drop=True)\n",
    "df_val = X_val.reset_index(drop =True)\n",
    "df_test = X_test.reset_index(drop=True)\n",
    "\n",
    "y_train = df_train.y.values\n",
    "y_val = df_val.y.values\n",
    "y_test = df_test.y.values\n",
    "\n",
    "del df_train['y']\n",
    "del df_val['y']\n",
    "del df_test['y']                                                    "
   ]
  },
  {
   "cell_type": "code",
   "execution_count": 3,
   "metadata": {},
   "outputs": [],
   "source": [
    "\n",
    "from sklearn.metrics import *\n",
    "from sklearn.feature_extraction import DictVectorizer\n",
    "from sklearn.linear_model import LogisticRegression\n",
    "\n",
    "\n",
    "\n",
    "def train_and_evaluate(train, val, y_train, y_val, features):\n",
    "    train_dict = train[features].to_dict(orient='records')\n",
    "    val_dict = val[features].to_dict(orient='records')\n",
    "\n",
    "    dv = DictVectorizer(sparse=False)\n",
    "    x_train = dv.fit_transform(train_dict)\n",
    "    x_val = dv.transform(val_dict)\n",
    "\n",
    "    # Train logistic regression model\n",
    "    model = LogisticRegression(solver='liblinear', C=1.0, max_iter=1000)\n",
    "    model.fit(x_train, y_train)\n",
    "\n",
    "    # Predict on validation set\n",
    "    y_pred = model.predict(x_val)\n",
    "\n",
    "    # Calculate accuracy\n",
    "    return roc_auc_score(y_val, y_pred)\n",
    "\n",
    "def train_and_evaluate_allfeat(train, val, y_train, y_val):\n",
    "    train_dict = train.to_dict(orient='records')\n",
    "    val_dict = val.to_dict(orient='records')\n",
    "\n",
    "    dv = DictVectorizer(sparse=False)\n",
    "    x_train = dv.fit_transform(train_dict)\n",
    "    x_val = dv.transform(val_dict)\n",
    "\n",
    "    # Train logistic regression model\n",
    "    model = LogisticRegression(solver='liblinear', C=1.0, max_iter=1000)\n",
    "    model.fit(x_train, y_train)\n",
    "\n",
    "    # Predict on validation set\n",
    "    y_pred = model.predict(x_val)\n",
    "\n",
    "    return roc_auc_score(y_val, y_pred)\n"
   ]
  },
  {
   "cell_type": "code",
   "execution_count": 4,
   "metadata": {},
   "outputs": [
    {
     "name": "stdout",
     "output_type": "stream",
     "text": [
      "The numerical variable with the highest AUC is: duration with an AUC of 0.8065630842212128\n"
     ]
    }
   ],
   "source": [
    "#ROC AUC feature importance\n",
    "\n",
    "feat = ['balance', 'day', 'duration', 'previous']\n",
    "score = {}\n",
    "\n",
    "for n in feat:\n",
    "    aucscore = roc_auc_score(y_train, df_train[n])\n",
    "    if aucscore < 0.5:\n",
    "        aucscore = roc_auc_score(y_train, -df_train[n])\n",
    "    score[n] = aucscore\n",
    "\n",
    "max_score = max(score, key=score.get)\n",
    "print(f\"The numerical variable with the highest AUC is: {max_score} with an AUC of {score[max_score]}\")\n"
   ]
  },
  {
   "cell_type": "code",
   "execution_count": 5,
   "metadata": {},
   "outputs": [
    {
     "data": {
      "text/plain": [
       "0.662"
      ]
     },
     "execution_count": 5,
     "metadata": {},
     "output_type": "execute_result"
    }
   ],
   "source": [
    "# Logistic regression and auc_score\n",
    "\n",
    "scores = train_and_evaluate_allfeat(df_train, df_val, y_train, y_val)\n",
    "auc_scores = round(scores, 3)\n",
    "auc_scores"
   ]
  },
  {
   "cell_type": "code",
   "execution_count": 6,
   "metadata": {},
   "outputs": [
    {
     "data": {
      "image/png": "[encoded data removed]",
      "text/plain": [
       "<Figure size 640x480 with 1 Axes>"
      ]
     },
     "metadata": {},
     "output_type": "display_data"
    },
    {
     "name": "stdout",
     "output_type": "stream",
     "text": [
      "Precision and recall curves intersect at approximately threshold: 0.28\n"
     ]
    }
   ],
   "source": [
    "# Function to train and evaluate logistic regression model\n",
    "def train_and_evaluate_allfeat1(train, val, y_train, y_val):\n",
    "    train_dict = train.to_dict(orient='records')\n",
    "    val_dict = val.to_dict(orient='records')\n",
    "\n",
    "    dv = DictVectorizer(sparse=False)\n",
    "    x_train = dv.fit_transform(train_dict)\n",
    "    x_val = dv.transform(val_dict)\n",
    "\n",
    "    # Train logistic regression model\n",
    "    model = LogisticRegression(solver='liblinear', C=1.0, max_iter=1000)\n",
    "    model.fit(x_train, y_train)\n",
    "\n",
    "    # Predict probabilities on validation set\n",
    "    y_pred = model.predict_proba(x_val)[:, 1]\n",
    "    return y_pred\n",
    "\n",
    "# Generate thresholds between start and stop\n",
    "thresh = np.arange(0.0, 1.0, 0.01)\n",
    "\n",
    "# Train the model and get prediction probabilities\n",
    "y_pred = train_and_evaluate_allfeat1(df_train, df_val, y_train, y_val)\n",
    "\n",
    "# Initialize lists to store precision and recall scores\n",
    "pre_scores = []\n",
    "rec_scores = []\n",
    "\n",
    "for t in thresh:\n",
    "    # Binarize predictions based on the threshold\n",
    "    y_pred_binary = (y_pred >= t).astype(int)\n",
    "    \n",
    "    # Compute precision and recall scores\n",
    "    pre_score = precision_score(y_val, y_pred_binary)\n",
    "    rec_score = recall_score(y_val, y_pred_binary)\n",
    "    \n",
    "    # Append the scores to the lists\n",
    "    pre_scores.append(pre_score)\n",
    "    rec_scores.append(rec_score)\n",
    "\n",
    "plt.plot(thresh, pre_scores, label='Precision')\n",
    "plt.plot(thresh, rec_scores, label='Recall')\n",
    "plt.xlabel('Threshold')\n",
    "plt.ylabel('Score')\n",
    "plt.title('Precision and Recall Curves')\n",
    "plt.legend()\n",
    "plt.show()\n",
    "\n",
    "\n",
    "intersection_threshold = None\n",
    "min_diff = float('inf')\n",
    "\n",
    "for i in range(len(thresh)):\n",
    "    diff = abs(pre_scores[i] - rec_scores[i])\n",
    "    if diff < min_diff:\n",
    "        min_diff = diff\n",
    "        intersection_threshold = thresh[i]\n",
    "\n",
    "print(f\"Precision and recall curves intersect at approximately threshold: {intersection_threshold:.2f}\")"
   ]
  },
  {
   "cell_type": "code",
   "execution_count": 7,
   "metadata": {},
   "outputs": [
    {
     "name": "stdout",
     "output_type": "stream",
     "text": [
      "Maximum F1 score: 0.590 at threshold: 0.220\n"
     ]
    }
   ],
   "source": [
    "# F1 Score\n",
    "\n",
    "F1_score = []\n",
    "\n",
    "for t in thresh:\n",
    "    # Binarize predictions based on the threshold\n",
    "    y_pred_binary = (y_pred >= t).astype(int)\n",
    "    \n",
    "    # Compute precision and recall scores\n",
    "    pre_score = precision_score(y_val, y_pred_binary)\n",
    "    rec_score = recall_score(y_val, y_pred_binary)\n",
    "    \n",
    "    # Compute F1 score using the formula\n",
    "    if pre_score + rec_score > 0:  # Avoid division by zero\n",
    "        f1 = 2 * (pre_score * rec_score) / (pre_score + rec_score)\n",
    "    else:\n",
    "        f1 = 0\n",
    "\n",
    "    F1_score.append(f1)\n",
    "\n",
    "# Find the threshold where F1 score is maximum\n",
    "max_f1 = max(F1_score)\n",
    "optimal_threshold = thresh[F1_score.index(max_f1)]\n",
    "\n",
    "print(f\"Maximum F1 score: {max_f1:.3f} at threshold: {optimal_threshold:.3f}\")"
   ]
  },
  {
   "cell_type": "code",
   "execution_count": 8,
   "metadata": {},
   "outputs": [
    {
     "data": {
      "application/vnd.jupyter.widget-view+json": {
       "model_id": "0f1400babe434e90bdef9b66f93065a3",
       "version_major": 2,
       "version_minor": 0
      },
      "text/plain": [
       "  0%|          | 0/5 [00:00<?, ?it/s]"
      ]
     },
     "metadata": {},
     "output_type": "display_data"
    },
    {
     "name": "stdout",
     "output_type": "stream",
     "text": [
      "C=1.0 Mean AUC: 0.906 +- 0.008\n"
     ]
    }
   ],
   "source": [
    "#KFOLD\n",
    "\n",
    "from tqdm.auto import tqdm\n",
    "\n",
    "\n",
    "from sklearn.model_selection import KFold\n",
    "import numpy as np\n",
    "\n",
    "kfold = KFold(n_splits=5, shuffle=True, random_state=1)\n",
    "scores = []\n",
    "C = 1.0  \n",
    "\n",
    "# Iterate over the K-Folds\n",
    "for train_idx, val_idx in tqdm(kfold.split(df_train_full), total=kfold.get_n_splits()):\n",
    "    # Split the data into training and validation sets\n",
    "    df_train = df_train_full.iloc[train_idx]\n",
    "    df_val = df_train_full.iloc[val_idx]\n",
    "\n",
    "    y_train = df_train.y.values\n",
    "    y_val = df_val.y.values\n",
    "\n",
    "    # One-hot encode the features using DictVectorizer\n",
    "    dv = DictVectorizer(sparse=False)\n",
    "    train_dict = df_train.drop('y', axis=1).to_dict(orient='records')\n",
    "    X_train = dv.fit_transform(train_dict)\n",
    "    \n",
    "    val_dict = df_val.drop('y', axis=1).to_dict(orient='records')\n",
    "    X_val = dv.transform(val_dict)\n",
    "\n",
    "    # Train the Logistic Regression model\n",
    "    model = LogisticRegression(solver='liblinear', C=C, max_iter=1000)\n",
    "    model.fit(X_train, y_train)\n",
    "\n",
    "    # Predict probabilities for validation set\n",
    "    y_pred = model.predict_proba(X_val)[:, 1]\n",
    "\n",
    "    # Calculate AUC score for validation set\n",
    "    auc = roc_auc_score(y_val, y_pred)\n",
    "    scores.append(auc)\n",
    "\n",
    "# Output the mean and standard deviation of AUC scores\n",
    "print(f'C={C} Mean AUC: {np.mean(scores):.3f} +- {np.std(scores):.3f}')"
   ]
  },
  {
   "cell_type": "code",
   "execution_count": 9,
   "metadata": {},
   "outputs": [
    {
     "name": "stdout",
     "output_type": "stream",
     "text": [
      "Evaluating C=1e-06\n"
     ]
    },
    {
     "data": {
      "application/vnd.jupyter.widget-view+json": {
       "model_id": "214e952e76f948198f8d11e04479ae80",
       "version_major": 2,
       "version_minor": 0
      },
      "text/plain": [
       "  0%|          | 0/5 [00:00<?, ?it/s]"
      ]
     },
     "metadata": {},
     "output_type": "display_data"
    },
    {
     "name": "stdout",
     "output_type": "stream",
     "text": [
      "C=1e-06: Mean AUC=0.695, Std AUC=0.009\n",
      "Evaluating C=0.001\n"
     ]
    },
    {
     "data": {
      "application/vnd.jupyter.widget-view+json": {
       "model_id": "8f4d73ffe65e46c480491c69f4116792",
       "version_major": 2,
       "version_minor": 0
      },
      "text/plain": [
       "  0%|          | 0/5 [00:00<?, ?it/s]"
      ]
     },
     "metadata": {},
     "output_type": "display_data"
    },
    {
     "name": "stdout",
     "output_type": "stream",
     "text": [
      "C=0.001: Mean AUC=0.861, Std AUC=0.006\n",
      "Evaluating C=1\n"
     ]
    },
    {
     "data": {
      "application/vnd.jupyter.widget-view+json": {
       "model_id": "2dc3d53b1ef54fcda589cc0e27d77ceb",
       "version_major": 2,
       "version_minor": 0
      },
      "text/plain": [
       "  0%|          | 0/5 [00:00<?, ?it/s]"
      ]
     },
     "metadata": {},
     "output_type": "display_data"
    },
    {
     "name": "stdout",
     "output_type": "stream",
     "text": [
      "C=1: Mean AUC=0.906, Std AUC=0.008\n",
      "Best C=1 with Mean AUC=0.906 and Std AUC=0.008\n"
     ]
    }
   ],
   "source": [
    "# Hyperparameter tunning\n",
    "\n",
    "# C values to test\n",
    "C_values = [0.000001, 0.001, 1]\n",
    "\n",
    "# Initialize KFold with 5 splits\n",
    "kfold = KFold(n_splits=5, shuffle=True, random_state=1)\n",
    "\n",
    "best_mean_auc = 0\n",
    "best_std_auc = float('inf')\n",
    "best_C = None\n",
    "\n",
    "# Iterate over each value of C\n",
    "for C in C_values:\n",
    "    print(f\"Evaluating C={C}\")\n",
    "    \n",
    "    scores = []\n",
    "    \n",
    "    # Iterate over the K-Folds\n",
    "    for train_idx, val_idx in tqdm(kfold.split(df_train_full), total=kfold.get_n_splits()):\n",
    "        # Split the data into training and validation sets\n",
    "        df_train = df_train_full.iloc[train_idx]\n",
    "        df_val = df_train_full.iloc[val_idx]\n",
    "\n",
    "        y_train = df_train.y.values\n",
    "        y_val = df_val.y.values\n",
    "\n",
    "        # One-hot encode the features using DictVectorizer\n",
    "        dv = DictVectorizer(sparse=False)\n",
    "        train_dict = df_train.drop('y', axis=1).to_dict(orient='records')\n",
    "        X_train = dv.fit_transform(train_dict)\n",
    "\n",
    "        val_dict = df_val.drop('y', axis=1).to_dict(orient='records')\n",
    "        X_val = dv.transform(val_dict)\n",
    "\n",
    "        # Train the Logistic Regression model with the current C\n",
    "        model = LogisticRegression(solver='liblinear', C=C, max_iter=1000)\n",
    "        model.fit(X_train, y_train)\n",
    "\n",
    "        # Predict probabilities for validation set\n",
    "        y_pred = model.predict_proba(X_val)[:, 1]\n",
    "\n",
    "        # Calculate AUC score for validation set\n",
    "        auc = roc_auc_score(y_val, y_pred)\n",
    "        scores.append(auc)\n",
    "\n",
    "    # Compute the mean and standard deviation of AUC scores for the current C\n",
    "    mean_auc = np.mean(scores)\n",
    "    std_auc = np.std(scores)\n",
    "\n",
    "    print(f'C={C}: Mean AUC={mean_auc:.3f}, Std AUC={std_auc:.3f}')\n",
    "    \n",
    "    # Update the best C based on mean AUC, and then by std_auc in case of ties\n",
    "    if (mean_auc > best_mean_auc) or (mean_auc == best_mean_auc and std_auc < best_std_auc):\n",
    "        best_mean_auc = mean_auc\n",
    "        best_std_auc = std_auc\n",
    "        best_C = C\n",
    "\n",
    "# Print the best C value and its corresponding mean and std\n",
    "print(f'Best C={best_C} with Mean AUC={best_mean_auc:.3f} and Std AUC={best_std_auc:.3f}')"
   ]
  },
  {
   "cell_type": "code",
   "execution_count": null,
   "metadata": {},
   "outputs": [],
   "source": []
  }
 ],
 "metadata": {
  "kernelspec": {
   "display_name": "Python 3",
   "language": "python",
   "name": "python3"
  },
  "language_info": {
   "codemirror_mode": {
    "name": "ipython",
    "version": 3
   },
   "file_extension": ".py",
   "mimetype": "text/x-python",
   "name": "python",
   "nbconvert_exporter": "python",
   "pygments_lexer": "ipython3",
   "version": "3.12.1"
  }
 },
 "nbformat": 4,
 "nbformat_minor": 2
}
