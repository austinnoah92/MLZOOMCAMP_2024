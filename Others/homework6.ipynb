{
 "cells": [
  {
   "cell_type": "code",
   "execution_count": 1,
   "metadata": {},
   "outputs": [],
   "source": [
    "#!wget https://github.com/alexeygrigorev/datasets/raw/refs/heads/master/jamb_exam_results.csv"
   ]
  },
  {
   "cell_type": "code",
   "execution_count": 2,
   "metadata": {},
   "outputs": [
    {
     "name": "stdout",
     "output_type": "stream",
     "text": [
      "JAMB_Score                        0\n",
      "Study_Hours_Per_Week              0\n",
      "Attendance_Rate                   0\n",
      "Teacher_Quality                   0\n",
      "Distance_To_School                0\n",
      "School_Type                       0\n",
      "School_Location                   0\n",
      "Extra_Tutorials                   0\n",
      "Access_To_Learning_Materials      0\n",
      "Parent_Involvement                0\n",
      "IT_Knowledge                      0\n",
      "Student_ID                        0\n",
      "Age                               0\n",
      "Gender                            0\n",
      "Socioeconomic_Status              0\n",
      "Parent_Education_Level          891\n",
      "Assignments_Completed             0\n",
      "dtype: int64\n"
     ]
    },
    {
     "data": {
      "text/html": [
       "<div>\n",
       "<style scoped>\n",
       "    .dataframe tbody tr th:only-of-type {\n",
       "        vertical-align: middle;\n",
       "    }\n",
       "\n",
       "    .dataframe tbody tr th {\n",
       "        vertical-align: top;\n",
       "    }\n",
       "\n",
       "    .dataframe thead th {\n",
       "        text-align: right;\n",
       "    }\n",
       "</style>\n",
       "<table border=\"1\" class=\"dataframe\">\n",
       "  <thead>\n",
       "    <tr style=\"text-align: right;\">\n",
       "      <th></th>\n",
       "      <th>JAMB_Score</th>\n",
       "      <th>Study_Hours_Per_Week</th>\n",
       "      <th>Attendance_Rate</th>\n",
       "      <th>Teacher_Quality</th>\n",
       "      <th>Distance_To_School</th>\n",
       "      <th>School_Type</th>\n",
       "      <th>School_Location</th>\n",
       "      <th>Extra_Tutorials</th>\n",
       "      <th>Access_To_Learning_Materials</th>\n",
       "      <th>Parent_Involvement</th>\n",
       "      <th>IT_Knowledge</th>\n",
       "      <th>Student_ID</th>\n",
       "      <th>Age</th>\n",
       "      <th>Gender</th>\n",
       "      <th>Socioeconomic_Status</th>\n",
       "      <th>Parent_Education_Level</th>\n",
       "      <th>Assignments_Completed</th>\n",
       "    </tr>\n",
       "  </thead>\n",
       "  <tbody>\n",
       "    <tr>\n",
       "      <th>0</th>\n",
       "      <td>192</td>\n",
       "      <td>22</td>\n",
       "      <td>78</td>\n",
       "      <td>4</td>\n",
       "      <td>12.4</td>\n",
       "      <td>Public</td>\n",
       "      <td>Urban</td>\n",
       "      <td>Yes</td>\n",
       "      <td>Yes</td>\n",
       "      <td>High</td>\n",
       "      <td>Medium</td>\n",
       "      <td>1</td>\n",
       "      <td>17</td>\n",
       "      <td>Male</td>\n",
       "      <td>Low</td>\n",
       "      <td>Tertiary</td>\n",
       "      <td>2</td>\n",
       "    </tr>\n",
       "    <tr>\n",
       "      <th>1</th>\n",
       "      <td>207</td>\n",
       "      <td>14</td>\n",
       "      <td>88</td>\n",
       "      <td>4</td>\n",
       "      <td>2.7</td>\n",
       "      <td>Public</td>\n",
       "      <td>Rural</td>\n",
       "      <td>No</td>\n",
       "      <td>Yes</td>\n",
       "      <td>High</td>\n",
       "      <td>High</td>\n",
       "      <td>2</td>\n",
       "      <td>15</td>\n",
       "      <td>Male</td>\n",
       "      <td>High</td>\n",
       "      <td>NaN</td>\n",
       "      <td>1</td>\n",
       "    </tr>\n",
       "    <tr>\n",
       "      <th>2</th>\n",
       "      <td>182</td>\n",
       "      <td>29</td>\n",
       "      <td>87</td>\n",
       "      <td>2</td>\n",
       "      <td>9.6</td>\n",
       "      <td>Public</td>\n",
       "      <td>Rural</td>\n",
       "      <td>Yes</td>\n",
       "      <td>Yes</td>\n",
       "      <td>High</td>\n",
       "      <td>Medium</td>\n",
       "      <td>3</td>\n",
       "      <td>20</td>\n",
       "      <td>Female</td>\n",
       "      <td>High</td>\n",
       "      <td>Tertiary</td>\n",
       "      <td>2</td>\n",
       "    </tr>\n",
       "    <tr>\n",
       "      <th>3</th>\n",
       "      <td>210</td>\n",
       "      <td>29</td>\n",
       "      <td>99</td>\n",
       "      <td>2</td>\n",
       "      <td>2.6</td>\n",
       "      <td>Public</td>\n",
       "      <td>Urban</td>\n",
       "      <td>No</td>\n",
       "      <td>Yes</td>\n",
       "      <td>Medium</td>\n",
       "      <td>High</td>\n",
       "      <td>4</td>\n",
       "      <td>22</td>\n",
       "      <td>Female</td>\n",
       "      <td>Medium</td>\n",
       "      <td>Tertiary</td>\n",
       "      <td>1</td>\n",
       "    </tr>\n",
       "    <tr>\n",
       "      <th>4</th>\n",
       "      <td>199</td>\n",
       "      <td>12</td>\n",
       "      <td>98</td>\n",
       "      <td>3</td>\n",
       "      <td>8.8</td>\n",
       "      <td>Public</td>\n",
       "      <td>Urban</td>\n",
       "      <td>No</td>\n",
       "      <td>Yes</td>\n",
       "      <td>Medium</td>\n",
       "      <td>Medium</td>\n",
       "      <td>5</td>\n",
       "      <td>22</td>\n",
       "      <td>Female</td>\n",
       "      <td>Medium</td>\n",
       "      <td>Tertiary</td>\n",
       "      <td>1</td>\n",
       "    </tr>\n",
       "  </tbody>\n",
       "</table>\n",
       "</div>"
      ],
      "text/plain": [
       "   JAMB_Score  Study_Hours_Per_Week  Attendance_Rate  Teacher_Quality  \\\n",
       "0         192                    22               78                4   \n",
       "1         207                    14               88                4   \n",
       "2         182                    29               87                2   \n",
       "3         210                    29               99                2   \n",
       "4         199                    12               98                3   \n",
       "\n",
       "   Distance_To_School School_Type School_Location Extra_Tutorials  \\\n",
       "0                12.4      Public           Urban             Yes   \n",
       "1                 2.7      Public           Rural              No   \n",
       "2                 9.6      Public           Rural             Yes   \n",
       "3                 2.6      Public           Urban              No   \n",
       "4                 8.8      Public           Urban              No   \n",
       "\n",
       "  Access_To_Learning_Materials Parent_Involvement IT_Knowledge  Student_ID  \\\n",
       "0                          Yes               High       Medium           1   \n",
       "1                          Yes               High         High           2   \n",
       "2                          Yes               High       Medium           3   \n",
       "3                          Yes             Medium         High           4   \n",
       "4                          Yes             Medium       Medium           5   \n",
       "\n",
       "   Age  Gender Socioeconomic_Status Parent_Education_Level  \\\n",
       "0   17    Male                  Low               Tertiary   \n",
       "1   15    Male                 High                    NaN   \n",
       "2   20  Female                 High               Tertiary   \n",
       "3   22  Female               Medium               Tertiary   \n",
       "4   22  Female               Medium               Tertiary   \n",
       "\n",
       "   Assignments_Completed  \n",
       "0                      2  \n",
       "1                      1  \n",
       "2                      2  \n",
       "3                      1  \n",
       "4                      1  "
      ]
     },
     "execution_count": 2,
     "metadata": {},
     "output_type": "execute_result"
    }
   ],
   "source": [
    "import pandas as pd\n",
    "import numpy as np\n",
    "import seaborn as sns\n",
    "\n",
    "df = pd.read_csv(\"jamb_exam_results.csv\")\n",
    "print(df.isnull().sum())\n",
    "df.head()"
   ]
  },
  {
   "cell_type": "code",
   "execution_count": 3,
   "metadata": {},
   "outputs": [
    {
     "data": {
      "text/plain": [
       "jamb_score                      0\n",
       "study_hours_per_week            0\n",
       "attendance_rate                 0\n",
       "teacher_quality                 0\n",
       "distance_to_school              0\n",
       "school_type                     0\n",
       "school_location                 0\n",
       "extra_tutorials                 0\n",
       "access_to_learning_materials    0\n",
       "parent_involvement              0\n",
       "it_knowledge                    0\n",
       "student_id                      0\n",
       "age                             0\n",
       "gender                          0\n",
       "socioeconomic_status            0\n",
       "parent_education_level          0\n",
       "assignments_completed           0\n",
       "dtype: int64"
      ]
     },
     "execution_count": 3,
     "metadata": {},
     "output_type": "execute_result"
    }
   ],
   "source": [
    "# Data Consistency and Filling Missing Values\n",
    "df.columns = df.columns.str.lower().str.replace(' ', '_')\n",
    "df = df.fillna(0)\n",
    "df.isnull().sum()"
   ]
  },
  {
   "cell_type": "code",
   "execution_count": 4,
   "metadata": {},
   "outputs": [],
   "source": [
    "#Data Splitting\n",
    "\n",
    "from sklearn.model_selection import train_test_split\n",
    "from sklearn.feature_extraction import DictVectorizer\n",
    "\n",
    "dv = DictVectorizer(sparse=False)\n",
    "del df['student_id']\n",
    "X = df.copy()\n",
    "\n",
    "X_train_full, X_test = train_test_split(X, test_size=0.2, random_state=42, shuffle=True)\n",
    "X_train, X_val = train_test_split(X_train_full, test_size=0.25, random_state=42, shuffle=True)\n",
    "\n",
    "df_train_full = X_train_full.reset_index(drop=True)\n",
    "df_train = X_train.reset_index(drop=True)\n",
    "df_val = X_val.reset_index(drop =True)\n",
    "df_test = X_test.reset_index(drop=True)\n",
    "\n",
    "y_train = df_train.jamb_score.values\n",
    "y_val = df_val.jamb_score.values\n",
    "y_test = df_test.jamb_score.values\n",
    "\n",
    "del df_train['jamb_score']\n",
    "del df_val['jamb_score']\n",
    "del df_test['jamb_score']    \n"
   ]
  },
  {
   "cell_type": "code",
   "execution_count": 5,
   "metadata": {},
   "outputs": [],
   "source": [
    "#Implementing DictVectorizer\n",
    "train_dict = df_train.to_dict(orient='records')\n",
    "val_dict = df_val.to_dict(orient='records')\n",
    "test_dict = df_test.to_dict(orient='records')\n",
    "\n",
    "Xtrain = dv.fit_transform(train_dict)\n",
    "Xval = dv.transform(val_dict)"
   ]
  },
  {
   "cell_type": "code",
   "execution_count": 6,
   "metadata": {},
   "outputs": [
    {
     "name": "stdout",
     "output_type": "stream",
     "text": [
      "|--- study_hours_per_week <= 21.50\n",
      "|   |--- value: [159.80]\n",
      "|--- study_hours_per_week >  21.50\n",
      "|   |--- value: [194.00]\n",
      "\n"
     ]
    }
   ],
   "source": [
    "#DecisionTree Model Trainning\n",
    "from sklearn import tree\n",
    "from sklearn.tree import export_text\n",
    "\n",
    "dt = tree.DecisionTreeRegressor(max_depth=1)\n",
    "\n",
    "model = dt.fit(Xtrain, y_train)\n",
    "\n",
    "y_pred = model.predict(Xval)\n",
    "\n",
    "print(export_text(model, feature_names=dv.get_feature_names_out()))"
   ]
  },
  {
   "cell_type": "code",
   "execution_count": 7,
   "metadata": {},
   "outputs": [
    {
     "data": {
      "text/plain": [
       "42.575814143713096"
      ]
     },
     "execution_count": 7,
     "metadata": {},
     "output_type": "execute_result"
    }
   ],
   "source": [
    "#Random Forest Model Trainning\n",
    "from sklearn import ensemble\n",
    "from sklearn.metrics import mean_squared_error\n",
    "\n",
    "\n",
    "rf = ensemble.RandomForestRegressor(n_estimators=10, random_state=1, n_jobs=-1)\n",
    "model_rf = rf.fit(Xtrain, y_train)\n",
    "y_predrf = model_rf.predict(Xval)\n",
    "\n",
    "err = mean_squared_error(y_val, y_predrf)\n",
    "\n",
    "rmse = np.sqrt(err)\n",
    "\n",
    "rmse\n"
   ]
  },
  {
   "cell_type": "code",
   "execution_count": 8,
   "metadata": {},
   "outputs": [
    {
     "data": {
      "text/plain": [
       "{10: 42.576,\n",
       " 20: 41.662,\n",
       " 30: 41.149,\n",
       " 40: 41.239,\n",
       " 50: 41.134,\n",
       " 60: 41.046,\n",
       " 70: 41.048,\n",
       " 80: 40.959,\n",
       " 90: 40.864,\n",
       " 100: 40.733,\n",
       " 110: 40.696,\n",
       " 120: 40.563,\n",
       " 130: 40.483,\n",
       " 140: 40.47,\n",
       " 150: 40.482,\n",
       " 160: 40.467,\n",
       " 170: 40.405,\n",
       " 180: 40.428,\n",
       " 190: 40.399,\n",
       " 200: 40.398}"
      ]
     },
     "execution_count": 8,
     "metadata": {},
     "output_type": "execute_result"
    }
   ],
   "source": [
    "#Parameter Tunning\n",
    "\n",
    "num = np.arange(10, 201, 10)\n",
    "\n",
    "scores ={}\n",
    "\n",
    "for i in num:\n",
    "    rf = ensemble.RandomForestRegressor(n_estimators=i, random_state=1, n_jobs=-1)\n",
    "    model_rf = rf.fit(Xtrain, y_train)\n",
    "    y_predrf = model_rf.predict(Xval)\n",
    "\n",
    "    err = mean_squared_error(y_val, y_predrf)\n",
    "\n",
    "    rmse = np.sqrt(err).round(3)\n",
    "\n",
    "    scores[i] = rmse\n",
    "\n",
    "scores"
   ]
  },
  {
   "cell_type": "code",
   "execution_count": 9,
   "metadata": {},
   "outputs": [
    {
     "data": {
      "text/plain": [
       "(10, 200)"
      ]
     },
     "execution_count": 9,
     "metadata": {},
     "output_type": "execute_result"
    }
   ],
   "source": [
    "#Parameter Tunning\n",
    "\n",
    "depth = [10, 15, 20, 25]\n",
    "scores ={}\n",
    "\n",
    "for i in num:\n",
    "    for d in depth:\n",
    "        rf = ensemble.RandomForestRegressor(n_estimators=i, max_depth = d, random_state=1, n_jobs=-1)\n",
    "        model_rf = rf.fit(Xtrain, y_train)\n",
    "        y_predrf = model_rf.predict(Xval)\n",
    "\n",
    "        err = mean_squared_error(y_val, y_predrf)\n",
    "\n",
    "        rmse = np.sqrt(err).round(3)\n",
    "\n",
    "        scores[(d, i)] = rmse\n",
    "\n",
    "min(scores, key=scores.__getitem__) #Key(n_estimators, max_depth) with the least RMSE "
   ]
  },
  {
   "cell_type": "code",
   "execution_count": 10,
   "metadata": {},
   "outputs": [
    {
     "name": "stdout",
     "output_type": "stream",
     "text": [
      "                             Feature  Gini Importance\n",
      "27              study_hours_per_week         0.258953\n",
      "4                    attendance_rate         0.148003\n",
      "5                 distance_to_school         0.139021\n",
      "28                   teacher_quality         0.081668\n",
      "2                                age         0.058906\n",
      "3              assignments_completed         0.035779\n",
      "24         socioeconomic_status=High         0.024400\n",
      "25          socioeconomic_status=Low         0.019753\n",
      "17           parent_involvement=High         0.019039\n",
      "10                 it_knowledge=High         0.016490\n",
      "11                  it_knowledge=Low         0.015029\n",
      "15  parent_education_level=Secondary         0.014863\n",
      "16   parent_education_level=Tertiary         0.014074\n",
      "14    parent_education_level=Primary         0.013449\n",
      "18            parent_involvement=Low         0.012350\n",
      "12               it_knowledge=Medium         0.011904\n",
      "1   access_to_learning_materials=Yes         0.011124\n",
      "6                 extra_tutorials=No         0.011048\n",
      "19         parent_involvement=Medium         0.010878\n",
      "9                        gender=Male         0.010200\n",
      "23                school_type=Public         0.010192\n",
      "26       socioeconomic_status=Medium         0.010120\n",
      "8                      gender=Female         0.009493\n",
      "21             school_location=Urban         0.009248\n",
      "20             school_location=Rural         0.009198\n",
      "7                extra_tutorials=Yes         0.009121\n",
      "0    access_to_learning_materials=No         0.008017\n",
      "22               school_type=Private         0.007679\n",
      "13            parent_education_level         0.000000\n"
     ]
    }
   ],
   "source": [
    "#Feature Importance\n",
    "rf = ensemble.RandomForestRegressor(n_estimators=10, max_depth = 20, random_state=1, n_jobs=-1)\n",
    "model_rf = rf.fit(Xtrain, y_train)\n",
    "importances = model_rf.feature_importances_\n",
    "feature = dv.get_feature_names_out()\n",
    "feature_imp_df = pd.DataFrame({'Feature': feature, 'Gini Importance': importances})\n",
    "feature_imp_df = feature_imp_df.sort_values('Gini Importance', ascending=False)\n",
    "\n",
    "print(feature_imp_df)"
   ]
  },
  {
   "cell_type": "code",
   "execution_count": 12,
   "metadata": {},
   "outputs": [
    {
     "data": {
      "text/plain": [
       "41.759"
      ]
     },
     "execution_count": 12,
     "metadata": {},
     "output_type": "execute_result"
    }
   ],
   "source": [
    "#XGBoost\n",
    "#%pip install xgboost\n",
    "import xgboost as xgb\n",
    "\n",
    "dtrain = xgb.DMatrix(Xtrain, y_train, feature_names=list(dv.get_feature_names_out()))\n",
    "dval = xgb.DMatrix(Xval, y_val, feature_names=list(dv.get_feature_names_out()))\n",
    "\n",
    "xgb_params = {\n",
    "    'eta': 0.1, \n",
    "    'max_depth': 6,\n",
    "    'min_child_weight': 1,\n",
    "    \n",
    "    'objective': 'reg:squarederror',\n",
    "    'nthread': 8,\n",
    "    \n",
    "    'seed': 1,\n",
    "    'verbosity': 1,\n",
    "}\n",
    "\n",
    "modelx = xgb.train(xgb_params, dtrain, num_boost_round=200)\n",
    "y_predx = modelx.predict(dval)\n",
    "\n",
    "err = mean_squared_error(y_val, y_predx)\n",
    "\n",
    "rmse = np.sqrt(err).round(3)\n",
    "rmse"
   ]
  },
  {
   "cell_type": "code",
   "execution_count": null,
   "metadata": {},
   "outputs": [],
   "source": []
  },
  {
   "cell_type": "code",
   "execution_count": null,
   "metadata": {},
   "outputs": [],
   "source": []
  }
 ],
 "metadata": {
  "kernelspec": {
   "display_name": "Python 3",
   "language": "python",
   "name": "python3"
  },
  "language_info": {
   "codemirror_mode": {
    "name": "ipython",
    "version": 3
   },
   "file_extension": ".py",
   "mimetype": "text/x-python",
   "name": "python",
   "nbconvert_exporter": "python",
   "pygments_lexer": "ipython3",
   "version": "3.12.1"
  }
 },
 "nbformat": 4,
 "nbformat_minor": 2
}
