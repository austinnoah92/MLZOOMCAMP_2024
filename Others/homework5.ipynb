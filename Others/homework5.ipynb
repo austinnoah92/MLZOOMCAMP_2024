{
 "cells": [
  {
   "cell_type": "code",
   "execution_count": 1,
   "metadata": {},
   "outputs": [
    {
     "name": "stdout",
     "output_type": "stream",
     "text": [
      "Requirement already satisfied: pipenv in /usr/local/python/3.12.1/lib/python3.12/site-packages (2024.2.0)\n",
      "Requirement already satisfied: certifi in /home/codespace/.local/lib/python3.12/site-packages (from pipenv) (2024.7.4)\n",
      "Requirement already satisfied: packaging>=22 in /home/codespace/.local/lib/python3.12/site-packages (from pipenv) (24.1)\n",
      "Requirement already satisfied: setuptools>=67 in /home/codespace/.local/lib/python3.12/site-packages (from pipenv) (73.0.1)\n",
      "Requirement already satisfied: virtualenv>=20.24.2 in /usr/local/python/3.12.1/lib/python3.12/site-packages (from pipenv) (20.27.1)\n",
      "Requirement already satisfied: distlib<1,>=0.3.7 in /usr/local/python/3.12.1/lib/python3.12/site-packages (from virtualenv>=20.24.2->pipenv) (0.3.9)\n",
      "Requirement already satisfied: filelock<4,>=3.12.2 in /home/codespace/.local/lib/python3.12/site-packages (from virtualenv>=20.24.2->pipenv) (3.13.1)\n",
      "Requirement already satisfied: platformdirs<5,>=3.9.1 in /home/codespace/.local/lib/python3.12/site-packages (from virtualenv>=20.24.2->pipenv) (4.2.2)\n",
      "Note: you may need to restart the kernel to use updated packages.\n"
     ]
    }
   ],
   "source": [
    "#Pipenv install\n",
    "\n",
    "%pip install pipenv"
   ]
  },
  {
   "cell_type": "code",
   "execution_count": 2,
   "metadata": {},
   "outputs": [
    {
     "name": "stdout",
     "output_type": "stream",
     "text": [
      "The probability that this client will get a subscription is 0.759.\n"
     ]
    },
    {
     "name": "stderr",
     "output_type": "stream",
     "text": [
      "/home/codespace/.local/lib/python3.12/site-packages/sklearn/base.py:376: InconsistentVersionWarning: Trying to unpickle estimator DictVectorizer from version 1.5.2 when using version 1.5.1. This might lead to breaking code or invalid results. Use at your own risk. For more info please refer to:\n",
      "https://scikit-learn.org/stable/model_persistence.html#security-maintainability-limitations\n",
      "  warnings.warn(\n",
      "/home/codespace/.local/lib/python3.12/site-packages/sklearn/base.py:376: InconsistentVersionWarning: Trying to unpickle estimator LogisticRegression from version 1.5.2 when using version 1.5.1. This might lead to breaking code or invalid results. Use at your own risk. For more info please refer to:\n",
      "https://scikit-learn.org/stable/model_persistence.html#security-maintainability-limitations\n",
      "  warnings.warn(\n"
     ]
    }
   ],
   "source": [
    "#Client's score\n",
    "\n",
    "import pickle\n",
    "\n",
    "# Load the DictVectorizer and LogisticRegression model\n",
    "with open('/workspaces/MLZOOMCAMP_2024/dv.bin', 'rb') as f_dv:\n",
    "    dv = pickle.load(f_dv)\n",
    "\n",
    "with open('/workspaces/MLZOOMCAMP_2024/model1.bin', 'rb') as f_model:\n",
    "    model = pickle.load(f_model)\n",
    "\n",
    "# Client data\n",
    "client = {\"job\": \"management\", \"duration\": 400, \"poutcome\": \"success\"}\n",
    "\n",
    "# Transform the client data using the DictVectorizer\n",
    "X_client = dv.transform([client])\n",
    "\n",
    "# Predict the probability of subscription\n",
    "probability = model.predict_proba(X_client)[0, 1]\n",
    "\n",
    "print(f\"The probability that this client will get a subscription is {probability:.3f}.\")"
   ]
  },
  {
   "cell_type": "code",
   "execution_count": 12,
   "metadata": {},
   "outputs": [],
   "source": [
    "import requests\n",
    "url = 'http://127.0.0.1:5000/predict'"
   ]
  },
  {
   "cell_type": "code",
   "execution_count": 11,
   "metadata": {},
   "outputs": [
    {
     "data": {
      "text/plain": [
       "{'subscription_probability': 0.33480703475511053}"
      ]
     },
     "execution_count": 11,
     "metadata": {},
     "output_type": "execute_result"
    }
   ],
   "source": [
    "\n",
    "client = {\"job\": \"student\", \"duration\": 280, \"poutcome\": \"failure\"}\n",
    "response = requests.post(url, json=client).json()\n",
    "response"
   ]
  },
  {
   "cell_type": "code",
   "execution_count": 15,
   "metadata": {},
   "outputs": [
    {
     "data": {
      "text/plain": [
       "{'subscription_probability': 0.7590966516879658}"
      ]
     },
     "execution_count": 15,
     "metadata": {},
     "output_type": "execute_result"
    }
   ],
   "source": [
    "url = \"http://127.0.0.1:5000/predict\"\n",
    "client = {\"job\": \"management\", \"duration\": 400, \"poutcome\": \"success\"}\n",
    "response = requests.post(url, json=client).json()\n",
    "response"
   ]
  }
 ],
 "metadata": {
  "kernelspec": {
   "display_name": "Python 3",
   "language": "python",
   "name": "python3"
  },
  "language_info": {
   "codemirror_mode": {
    "name": "ipython",
    "version": 3
   },
   "file_extension": ".py",
   "mimetype": "text/x-python",
   "name": "python",
   "nbconvert_exporter": "python",
   "pygments_lexer": "ipython3",
   "version": "3.12.1"
  }
 },
 "nbformat": 4,
 "nbformat_minor": 2
}
